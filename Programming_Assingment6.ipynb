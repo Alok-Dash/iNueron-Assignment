{
 "cells": [
  {
   "cell_type": "markdown",
   "metadata": {},
   "source": [
    "# Programming Assingment 6"
   ]
  },
  {
   "cell_type": "markdown",
   "metadata": {},
   "source": [
    "1.\tWrite a Python Program to Display Fibonacci Sequence Using Recursion?"
   ]
  },
  {
   "cell_type": "code",
   "execution_count": null,
   "metadata": {},
   "outputs": [],
   "source": [
    "def fibo_rec(n):\n",
    "    if n<=1:\n",
    "        return n\n",
    "    else:\n",
    "#        print((fibo_rec(n-1)+fibo_rec(n-2)))\n",
    "        return(fibo_rec(n-1)+fibo_rec(n-2))\n",
    "\n",
    "num=int(input(\"Please enter how many numbers fibonaci sequence is required: \"))\n",
    "if num<=0:\n",
    "    print(\"Please enter a valid non zero number\")\n",
    "else:\n",
    "    print(\"The fibonacci series for %a times is:\" %(num))\n",
    "    for i in range(num):\n",
    "        print((i,fibo_rec(i)))"
   ]
  },
  {
   "cell_type": "markdown",
   "metadata": {},
   "source": [
    "2.\tWrite a Python Program to Find Factorial of Number Using Recursion?"
   ]
  },
  {
   "cell_type": "code",
   "execution_count": null,
   "metadata": {},
   "outputs": [],
   "source": [
    "def fac_rec(n):\n",
    "    if n==1:\n",
    "        return n\n",
    "    else:\n",
    "        return n*fac_rec(n-1)\n",
    "num=int(input(\"Please enter how many numbers fibonaci sequence is required: \"))\n",
    "if num<=0:\n",
    "    print(\"Please enter a valid non zero number\")\n",
    "else:\n",
    "    print(\"The factorial of %a is:\" %(num),fac_rec(num))"
   ]
  },
  {
   "cell_type": "markdown",
   "metadata": {},
   "source": [
    "3.\tWrite a Python Program to calculate your Body Mass Index?"
   ]
  },
  {
   "cell_type": "code",
   "execution_count": null,
   "metadata": {},
   "outputs": [],
   "source": [
    "def BMI():\n",
    "    weight=float(input(\"Please enter your weight in KG: \"))\n",
    "    height=float(input(\"Please enter your height in CM: \"))\n",
    "    bmi=weight/((height/100)**2)\n",
    "    if bmi<18.5:\n",
    "        print(\"Please look after your weight, Underweight: Your BMI is \", bmi)\n",
    "    elif (bmi>=18.5) & (bmi<25):\n",
    "        print(\"Kudos, You have normal weight, Your BMI is \", bmi)\n",
    "    elif (bmi>=25) & (bmi<30):\n",
    "        print(\"Please look after your weight, Overweight: Your BMI is \", bmi)\n",
    "    elif bmi>=30:\n",
    "        print(\"You have Obesity, please consult a doctor, Your BMI is \", bmi)\n",
    "    else:\n",
    "        print(\"Wrong inputs entered\")\n",
    "BMI()"
   ]
  },
  {
   "cell_type": "markdown",
   "metadata": {},
   "source": [
    "4.\tWrite a Python Program to calculate the natural logarithm of any number?"
   ]
  },
  {
   "cell_type": "code",
   "execution_count": null,
   "metadata": {},
   "outputs": [],
   "source": [
    "import math\n",
    "def natlog(n):\n",
    "    log=math.log(n)\n",
    "    print(\"Natural logarithm of number %a is %a\" %(n,log))\n",
    "    return log\n",
    "natlog(100)"
   ]
  },
  {
   "cell_type": "markdown",
   "metadata": {},
   "source": [
    "5.\tWrite a Python Program for cube sum of first n natural numbers?"
   ]
  },
  {
   "cell_type": "code",
   "execution_count": null,
   "metadata": {},
   "outputs": [],
   "source": [
    "def cubesum(n):\n",
    "    if type(n)==int:\n",
    "        sum=int(((n**2)*((n+1)**2))/4)\n",
    "        print(\"Cube Sum of first %a natural numbers is %a\" %(n,sum))\n",
    "    else:\n",
    "        print(\"please provide corrent natural number in function call\")\n",
    "    return sum\n",
    "\n",
    "cubesum(10)"
   ]
  }
 ],
 "metadata": {
  "kernelspec": {
   "display_name": "Python 3",
   "language": "python",
   "name": "python3"
  },
  "language_info": {
   "codemirror_mode": {
    "name": "ipython",
    "version": 3
   },
   "file_extension": ".py",
   "mimetype": "text/x-python",
   "name": "python",
   "nbconvert_exporter": "python",
   "pygments_lexer": "ipython3",
   "version": "3.7.6"
  }
 },
 "nbformat": 4,
 "nbformat_minor": 4
}

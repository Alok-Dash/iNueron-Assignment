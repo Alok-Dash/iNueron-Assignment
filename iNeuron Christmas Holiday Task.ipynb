{
 "cells": [
  {
   "cell_type": "markdown",
   "metadata": {},
   "source": [
    "# Happy New Year 2022"
   ]
  },
  {
   "cell_type": "markdown",
   "metadata": {},
   "source": [
    "# 1. You have to write a fun which will take string and return a len of it without using a inbuilt function len"
   ]
  },
  {
   "cell_type": "code",
   "execution_count": null,
   "metadata": {},
   "outputs": [],
   "source": [
    "def strlen(a):\n",
    "    \"\"\"This function will give the length of all charecters of a string.\n",
    "    It will throw an error if string is not passed as argument\"\"\"\n",
    "    if type(a)==str:\n",
    "        n=0\n",
    "        for i in a:\n",
    "            n=n+1\n",
    "        print(n)\n",
    "        return n\n",
    "    else:\n",
    "        raise SystemError(\"You have not entered a string\")"
   ]
  },
  {
   "cell_type": "markdown",
   "metadata": {},
   "source": [
    "# 2. Write a fun which will be able to print an index of all premitive element which you will pass "
   ]
  },
  {
   "cell_type": "code",
   "execution_count": null,
   "metadata": {},
   "outputs": [],
   "source": [
    "def allindex(a):\n",
    "    \"This will print index of all elements passed as argument\"\n",
    "#    a=input(\"Please enter element ->\")\n",
    "    n=0\n",
    "    b=[]\n",
    "    if type(a)==int or type(a)==float or type(a)==complex: \n",
    "            b.append(a)\n",
    "    elif type(a)==list or type(a)==tuple or type(a)==set: \n",
    "        for i in a:\n",
    "            b.append(i)\n",
    "    elif type(a)==str:\n",
    "        for i in a:\n",
    "            n=n+1\n",
    "            print(\"Index \",n , i)\n",
    "    elif type(a)==dict:\n",
    "        for i in a.items():\n",
    "            if type(i)==dict:\n",
    "                for j in i.items():\n",
    "                    b.append(j)\n",
    "            else:\n",
    "                b.append(i)\n",
    "    else :\n",
    "        b.extend(list(a))\n",
    "    for i in b:\n",
    "        n=n+1\n",
    "        print(\"Index\",n,\" \",i)"
   ]
  },
  {
   "cell_type": "markdown",
   "metadata": {},
   "source": [
    "# 3. Write a fun which will take input as a dict and give me out as a list of all the values. even in case of 2 level nesting it should work."
   ]
  },
  {
   "cell_type": "code",
   "execution_count": null,
   "metadata": {},
   "outputs": [],
   "source": [
    "def dictvals(a):\n",
    "    \"\"\"This function will take input as a dictionary.\n",
    "    It will return a list of all the values present in it even if it's nested.\n",
    "    It will throw an error if dict is not passed as argument\"\"\"\n",
    "    d=[]\n",
    "    if type(a)==dict:\n",
    "        for i in a.values():\n",
    "            if type(i)==dict:\n",
    "                for j in i.values():\n",
    "                    d.append(j)\n",
    "            else:\n",
    "                d.append(i)\n",
    "        print(d)\n",
    "    else:\n",
    "        raise SystemError(\"You have not entered a dict\")"
   ]
  },
  {
   "cell_type": "markdown",
   "metadata": {},
   "source": [
    "# 4. write a fun which will take another function as an input and return me an output"
   ]
  },
  {
   "cell_type": "code",
   "execution_count": null,
   "metadata": {},
   "outputs": [],
   "source": [
    "def square(a):\n",
    "    return a**2\n",
    "def cube(a):\n",
    "    return a**3\n",
    "def nestfun(math):\n",
    "    \"\"\"Pass function as an input to get square or cube of a number.\n",
    "        Get the output of the passed function in return as squares or cubes of the numbers\n",
    "        \"\"\"\n",
    "    n=input(\"Enter a number\")\n",
    "    if type(int(n))==int:\n",
    "        numbcompute=math(int(n))\n",
    "    else:\n",
    "        raise SystemError(\"Input given is not a number\")\n",
    "    print(numbcompute)"
   ]
  },
  {
   "cell_type": "code",
   "execution_count": null,
   "metadata": {},
   "outputs": [],
   "source": [
    "nestfun(square)"
   ]
  },
  {
   "cell_type": "code",
   "execution_count": null,
   "metadata": {},
   "outputs": [],
   "source": [
    "nestfun(cube)"
   ]
  },
  {
   "cell_type": "markdown",
   "metadata": {},
   "source": [
    "# 5. write a function which will take multiple list as an input and give me concatination of all the element as an output"
   ]
  },
  {
   "cell_type": "code",
   "execution_count": null,
   "metadata": {},
   "outputs": [],
   "source": [
    "def concatlist(*a):\n",
    "    \"\"\"Give as many lists you want as an input and get all elements concateneted as output\"\"\"\n",
    "    b=\"\"\n",
    "    c=[]\n",
    "    for i in a:\n",
    "        c.extend(i)\n",
    "    for i in c:\n",
    "        b=b+str(i)\n",
    "    print(b)"
   ]
  },
  {
   "cell_type": "code",
   "execution_count": null,
   "metadata": {},
   "outputs": [],
   "source": [
    "concatlist([1,23,4,\"aa\",5+5j],[111,123,114,\"aaz1\",5+5j],[11,213,14,\"a1za\",5+5j])"
   ]
  },
  {
   "cell_type": "markdown",
   "metadata": {},
   "source": [
    "# 6 . write a function which will be able to take a list as an input return an index of each element like a inbuilt index function but even if we have repetative element it should return index "
   ]
  },
  {
   "cell_type": "code",
   "execution_count": null,
   "metadata": {},
   "outputs": [],
   "source": [
    "def listindex(a):\n",
    "    \"\"\"Gives the index of all items in a list which is given as an input.\n",
    "        All repetative elements are given as new index\"\"\"\n",
    "    b=\"\"\n",
    "    n=-1\n",
    "    if type(a)==list:\n",
    "        for i in (a):\n",
    "            n=n+1\n",
    "            b=b+\"Index \"+str(n)+\" \"+str(i)+\" \"\n",
    "        return b\n",
    "    else:\n",
    "        raise SystemError(\"Input given is not a list\")"
   ]
  },
  {
   "cell_type": "code",
   "execution_count": null,
   "metadata": {},
   "outputs": [],
   "source": [
    "listindex([1,2,3,4,5,6,1,23,4,5,6,1,2,3])"
   ]
  },
  {
   "cell_type": "markdown",
   "metadata": {},
   "source": [
    "# 7. Write a function which will whould return list of all the file name from a directory ."
   ]
  },
  {
   "cell_type": "code",
   "execution_count": null,
   "metadata": {},
   "outputs": [],
   "source": [
    "import os\n",
    "def accessfilename():\n",
    "    \"\"\"Enter a file path and get all the file names present in that path as a list\"\"\"\n",
    "    path=input(\"Please enter file directory\")\n",
    "    os.chdir(path)\n",
    "    os.listdir(path)\n",
    "    f=[]\n",
    "    for file in os.listdir():\n",
    "        f.append(file)\n",
    "    return f\n",
    "  "
   ]
  },
  {
   "cell_type": "code",
   "execution_count": null,
   "metadata": {},
   "outputs": [],
   "source": [
    "accessfilename()"
   ]
  },
  {
   "cell_type": "markdown",
   "metadata": {},
   "source": [
    "# 8. write a function which will be able to show your system configuration ."
   ]
  },
  {
   "cell_type": "code",
   "execution_count": null,
   "metadata": {},
   "outputs": [],
   "source": [
    "import platform\n",
    "import os\n",
    "def sysconf():\n",
    "    \"\"\"This function shows system configuration\"\"\"\n",
    "    my_system=platform.uname()\n",
    "    print(\"System->\", {my_system.system})\n",
    "    print(\"Version->\", {my_system.version})\n",
    "    print(\"Machine->\", {my_system.machine})\n",
    "    print(\"Release->\", {my_system.release})\n",
    "    print(\"node name->\", {my_system.node})\n",
    "    print(\"Number of processor->\", {my_system.processor})"
   ]
  },
  {
   "cell_type": "code",
   "execution_count": null,
   "metadata": {},
   "outputs": [],
   "source": [
    "sysconf()"
   ]
  },
  {
   "cell_type": "markdown",
   "metadata": {},
   "source": [
    "# 9 . write a function which will be able to show date and time."
   ]
  },
  {
   "cell_type": "code",
   "execution_count": null,
   "metadata": {},
   "outputs": [],
   "source": [
    "from datetime import datetime\n",
    "def showdatetime():\n",
    "    \"\"\"This functions shows system current date & time\"\"\"\n",
    "    today=datetime.now()\n",
    "    print(\"Todays date is:\", today)"
   ]
  },
  {
   "cell_type": "code",
   "execution_count": null,
   "metadata": {},
   "outputs": [],
   "source": [
    "showdatetime()"
   ]
  },
  {
   "cell_type": "markdown",
   "metadata": {},
   "source": [
    "# 19 . write a function by which you can print an ip address of your system. \n"
   ]
  },
  {
   "cell_type": "code",
   "execution_count": null,
   "metadata": {},
   "outputs": [],
   "source": [
    "import os\n",
    "import sys\n",
    "import socket\n",
    "def showip():\n",
    "    \"\"\"This function will print IP address of the system\"\"\"\n",
    "    a=socket.gethostname()\n",
    "    ip=socket.gethostbyname(a)\n",
    "    print(\"your computer ip address is :\",ip)"
   ]
  },
  {
   "cell_type": "code",
   "execution_count": null,
   "metadata": {},
   "outputs": [],
   "source": [
    "showip()"
   ]
  },
  {
   "cell_type": "markdown",
   "metadata": {},
   "source": [
    "# 10. write a function which will be able to read a image file and show it to you."
   ]
  },
  {
   "cell_type": "code",
   "execution_count": null,
   "metadata": {},
   "outputs": [],
   "source": [
    "import os\n",
    "import sys\n",
    "from PIL import Image\n",
    "def image():\n",
    "    \"\"\"Provide a image file path to open and show image\"\"\"\n",
    "    path=input(\"Provide image file path: \")\n",
    "    path2=input(\"Provide image name: \")\n",
    "    os.chdir(path)\n",
    "    os.listdir(path)\n",
    "    img=Image.open(path2)\n",
    "    img.show()\n",
    "    "
   ]
  },
  {
   "cell_type": "code",
   "execution_count": null,
   "metadata": {},
   "outputs": [],
   "source": [
    "image()"
   ]
  },
  {
   "cell_type": "markdown",
   "metadata": {},
   "source": [
    "# 11. Write a function which can read video file and play for you."
   ]
  },
  {
   "cell_type": "code",
   "execution_count": null,
   "metadata": {},
   "outputs": [],
   "source": [
    "#!pip install opencv-python\n",
    "import cv2\n",
    "import numpy as np\n",
    "import os\n",
    "def playvdo():\n",
    "    \"\"\"Provide the path of the vdo file and play the vdo\"\"\"\n",
    "    path=input(\"Please enter vdo file path\")\n",
    "    os.chdir(path)\n",
    "    vdo=input(\"please enter vdo name\")\n",
    "    #reads the vdo from input and creates videocapture object \n",
    "    #cv2.VideoCapture(0): Means first camera or webcam.\n",
    "    #cv2.VideoCapture(1):  Means second camera or webcam.\n",
    "    pvdo=cv2.VideoCapture(vdo)\n",
    "    if pvdo.isOpened()==False:\n",
    "        print(\"Error in opening vdo file\")\n",
    "    while pvdo.isOpened():\n",
    "        ret, frame=pvdo.read()\n",
    "        if ret==True:\n",
    "            cv2.imshow('Frame', frame)\n",
    "            if cv2.waitKey(25) & 0xFF==ord('q'):\n",
    "                break\n",
    "        else:\n",
    "            break\n",
    "    pvdo.release()\n",
    "    cv2.destroyAllWindows()    "
   ]
  },
  {
   "cell_type": "code",
   "execution_count": null,
   "metadata": {},
   "outputs": [],
   "source": [
    "playvdo()"
   ]
  },
  {
   "cell_type": "markdown",
   "metadata": {},
   "source": [
    "# 16. write a function to read a complete PDf file. \n",
    "# 20. write a function by which you will be able to append two PDF files."
   ]
  },
  {
   "cell_type": "code",
   "execution_count": null,
   "metadata": {},
   "outputs": [],
   "source": [
    "#!pip install PyPDF2\n",
    "import PyPDF2\n",
    "import os\n",
    "def PDFtask():\n",
    "    \"\"\"Provide the path of PDF file in input and umber of files to Read.\n",
    "    This will read all pdf files and print all pages and also append two pdf files\n",
    "    Both pdf files should be in same directory\"\"\"\n",
    "    path=input(\"Please enter file path\")\n",
    "    os.chdir(path)\n",
    "    count=int(input(\"Please enter number of pdf files you want to read\"))\n",
    "    pdfs=[]\n",
    "    for i in range(count):\n",
    "        filename=input('Please enter pdf file name')\n",
    "        pdfs.append(filename)\n",
    "    pdfmerge=PyPDF2.PdfFileMerger()\n",
    "    for pdf in pdfs:\n",
    "        pdffile=open(pdf,'rb')\n",
    "        pdfread=PyPDF2.PdfFileReader(pdffile)\n",
    "        print(pdfread.numPages)\n",
    "        for page in range(pdfread.numPages):\n",
    "            pdfpage=pdfread.getPage(page)\n",
    "            print(pdfpage.extractText())\n",
    "        pdfmerge.append(pdf)\n",
    "        pdffile.close()\n",
    "    with open('combinedpdfoutput.pdf','wb') as f:\n",
    "        pdfmerge.write(f)"
   ]
  },
  {
   "cell_type": "code",
   "execution_count": null,
   "metadata": {},
   "outputs": [],
   "source": [
    "PDFtask()#Its giving error in one particular file but perfectly works for rest of files in the path i tried."
   ]
  },
  {
   "cell_type": "markdown",
   "metadata": {},
   "source": [
    "# 17. write a function to read a word file. "
   ]
  },
  {
   "cell_type": "code",
   "execution_count": null,
   "metadata": {},
   "outputs": [],
   "source": [
    "#!pip install python-docx\n",
    "import docx\n",
    "import os\n",
    "def readword():\n",
    "    \"\"\"This function takes MSword file path and file name as input\n",
    "        It reads all the paragraphs in the word file and prints all the text in the word file.\"\"\"\n",
    "    path=input(\"Please enter path directory:\")\n",
    "    filename=input(\"Please enter word file anme that you want to read:\")\n",
    "    os.chdir(path)\n",
    "    doc=docx.Document(filename)\n",
    "    text=[]\n",
    "    for para in doc.paragraphs:\n",
    "        text.append(para.text)\n",
    "        print(para.text)\n",
    "    print(\"\\n\".join(text))\n",
    "    print(text)"
   ]
  },
  {
   "cell_type": "code",
   "execution_count": null,
   "metadata": {},
   "outputs": [],
   "source": [
    "readword()"
   ]
  },
  {
   "cell_type": "markdown",
   "metadata": {},
   "source": [
    "# 18. write a function which can help you to filter only word file from a directory."
   ]
  },
  {
   "cell_type": "code",
   "execution_count": null,
   "metadata": {},
   "outputs": [],
   "source": [
    "import os\n",
    "def wordfiles():\n",
    "    \"\"\"Provide the path as input in which you want to filter all word files\n",
    "        This will give a list of names of all word files\"\"\"\n",
    "    path=input(\"Please enter path directory\")\n",
    "    os.chdir(path)\n",
    "    apath=os.listdir()\n",
    "    wordf=[]\n",
    "    for file in apath:\n",
    "        name, ext = os.path.splitext(file)\n",
    "        ext=ext[1:]\n",
    "        name=name[0:]\n",
    "        if ext=='doc' or ext=='docx':\n",
    "            wordf.append(name+\".\"+ext)\n",
    "    print(wordf)"
   ]
  },
  {
   "cell_type": "code",
   "execution_count": null,
   "metadata": {},
   "outputs": [],
   "source": [
    "wordfiles()"
   ]
  },
  {
   "cell_type": "markdown",
   "metadata": {},
   "source": [
    "# 12. write a function which can move a file from one directory to another directory. "
   ]
  },
  {
   "cell_type": "code",
   "execution_count": null,
   "metadata": {},
   "outputs": [],
   "source": [
    "import os\n",
    "import shutil\n",
    "def movefiles():\n",
    "    \"\"\"Input the source path and file name you want to move.\n",
    "        Input the destination path where you want to move.Even if the path not exists, it will create & move\"\"\"\n",
    "    sourcepath=input(\"Please enter the path of the source file: \")\n",
    "    destpath=input(\"Please enter the destination path where you want to move: \")\n",
    "    file=input(\"Please enter the file name you want to move: \")\n",
    "    os.chdir(sourcepath)\n",
    "    if os.path.exists(destpath):\n",
    "        shutil.move(sourcepath+'/'+file,destpath+'/'+file)\n",
    "    else:\n",
    "        os.makedirs(destpath)\n",
    "        shutil.move(sourcepath+'/'+file,destpath+'/'+file)\n",
    "    print(\"file moved successfully\")"
   ]
  },
  {
   "cell_type": "code",
   "execution_count": null,
   "metadata": {},
   "outputs": [],
   "source": [
    "movefiles()"
   ]
  },
  {
   "cell_type": "markdown",
   "metadata": {},
   "source": [
    "# 13. write a function which will be able to shutdown your system. "
   ]
  },
  {
   "cell_type": "code",
   "execution_count": null,
   "metadata": {},
   "outputs": [],
   "source": [
    "import os\n",
    "def shutdown():\n",
    "    \"\"\"Enter 'y'/'n' if you want to shutdown. It will instantly shutdown your system\"\"\"\n",
    "    shutd=input(\"Do you wish to shutdown your computer? (y / n) : \")\n",
    "    if shutd.lower()!=\"y\":\n",
    "        exit()\n",
    "    elif shutd.lower()==\"y\":\n",
    "        x=input(\"Please save and close all important files and click: y\")\n",
    "        if x.lower()!=\"y\":\n",
    "            exit()\n",
    "        else:\n",
    "            os.system(\"shutdown /s /t 1\")\n",
    "    else:\n",
    "        exit()"
   ]
  },
  {
   "cell_type": "code",
   "execution_count": null,
   "metadata": {},
   "outputs": [],
   "source": [
    "shutdown()"
   ]
  },
  {
   "cell_type": "markdown",
   "metadata": {},
   "source": [
    "# 14. write a function which will be able to access your mail."
   ]
  },
  {
   "cell_type": "code",
   "execution_count": null,
   "metadata": {},
   "outputs": [],
   "source": [
    "import imaplib, email\n",
    "def reademail():\n",
    "    \"\"\"Input your email & password & email provider\n",
    "        *****IMAP4 settings should be allowed to protect from encription and SSL connection IMAP4_SSL*****\n",
    "        Read email from a user specified email id\n",
    "        CodeSource:https://www.geeksforgeeks.org/python-fetch-your-gmail-emails-from-a-particular-user/ \"\"\"\n",
    "    user=input(\"Please input you full email id to login: \")\n",
    "    password=input(\"Please input your email password\")\n",
    "    mapurl=input(\"imap.gmail.com\")\n",
    "#This Function gets the email body part\n",
    "    def get_body(msg):\n",
    "        if msg.is_multipart():\n",
    "            return get_body(msg.get_payload(0))\n",
    "        else:\n",
    "            return msg.get_payload(None, True)\n",
    "#This Function helps in searching the required mail\n",
    "    def search(key, value, contact):\n",
    "        result, data = contact.search(None, key, '\"{}\"'.format(value))\n",
    "        return data\n",
    "#This function gets list of emails under this label\n",
    "    def get_emails(result_bytes):\n",
    "        msgs=[] #all msgs pushed in this array\n",
    "        for num in result_bytes[0].split():\n",
    "            typ, data=contact.fetch(num, '(RFC822)')\n",
    "            msgs.append(data)\n",
    "        return msgs\n",
    "##This is to make SSL connection with GMAIl\n",
    "    contact=imaplib.IMAP4_SSL(mapurl)\n",
    "    contact.login(user, password) #Logging the user-in\n",
    "    contact.select('Inbox') #Calling function to check emails under this label\n",
    "\n",
    "#Fetch email from a required user \"*******.gmail.com\"\n",
    "    sender=input(\"Enter the email id whose mails you want to search: \")\n",
    "    msgs = get_emails(search('From', sender, contact))\n",
    "    print(msgs)\n",
    "# Finding the required content from our msgs #make custom changes in this part to fetch the required content\n",
    "# printing them by the order they are displayed in your gmail\n",
    "    for msg in msgs[::-1]:\n",
    "        for sent in msg:\n",
    "            if type(sent) is tuple:\n",
    "                # encoding set as utf-8\n",
    "                content = str(sent[1], 'utf-8')\n",
    "                data = str(content)\n",
    " \n",
    "                # Handling errors related to unicodenecode\n",
    "                try:\n",
    "                    indexstart = data.find(\"ltr\")\n",
    "                    data2 = data[indexstart + 5: len(data)]\n",
    "                    indexend = data2.find(\"</div>\")\n",
    "                    \n",
    "                    # printtng the required content which we need to extract from our email i.e our body\n",
    "                    print(data2[0: indexend])\n",
    " \n",
    "                except UnicodeEncodeError as e:\n",
    "                    pass"
   ]
  },
  {
   "cell_type": "code",
   "execution_count": null,
   "metadata": {},
   "outputs": [],
   "source": [
    "reademail()"
   ]
  },
  {
   "cell_type": "markdown",
   "metadata": {},
   "source": [
    "# 15. write a function by which i can send a mail to anyone."
   ]
  },
  {
   "cell_type": "code",
   "execution_count": null,
   "metadata": {},
   "outputs": [],
   "source": [
    "import os\n",
    "import smtplib\n",
    "from email.mime.multipart import MIMEMultipart\n",
    "from email.mime.text import MIMEText\n",
    "from email.mime.base import MIMEBase\n",
    "from email import encoders\n",
    "\n",
    "def sendemail():\n",
    "    \"\"\"Provide all the details of your email id.\n",
    "        Enter the details of the email like:sub, body, attachemnet\n",
    "        Enter the recipient mail id and send the email\n",
    "        Source code: https://www.geeksforgeeks.org/send-mail-gmail-account-using-python/\n",
    "        Source code: https://www.geeksforgeeks.org/send-mail-attachment-gmail-account-using-python/\n",
    "        \"\"\"\n",
    "    fromaddr = input(\"EMAIL address of the sender\")\n",
    "    password=input(\"Please input your email password\")\n",
    "    # list of email_id to send the mail\n",
    "    toaddr = input(\"Enter all the receiver email address like list input: example: 'xxxxx@gmail.com, 'yyyyy@gmail.com'\")\n",
    "    tolist = list(toaddr)\n",
    "    sub=input(\"Subject of the Mail\")\n",
    "   \n",
    "    # instance of MIMEMultipart\n",
    "    msg = MIMEMultipart()\n",
    "  \n",
    "    # storing the senders email address  \n",
    "    msg['From'] = fromaddr\n",
    "    # storing the receivers email address \n",
    "    msg['To'] = toaddr\n",
    "    # storing the subject \n",
    "    msg['Subject'] = sub\n",
    "    # string to store the body of the mail\n",
    "    body=input(\"Body of the email\")\n",
    "    # attach the body with the msg instance\n",
    "\n",
    "    #msg.attach(MIMEText(body, 'plain'))\n",
    "    # open the file to be sent \n",
    "    #filename = input(\"File_name_with_extension\")\n",
    "    #path=input(\"Path of the file\")\n",
    "    #os.chdir(path)\n",
    "    #attachment = open(path, \"rb\")\n",
    "    ## instance of MIMEBase and named as p\n",
    "    #p = MIMEBase('application', 'octet-stream')\n",
    "    ## To change the payload into encoded form\n",
    "    #p.set_payload((attachment).read())\n",
    "    ## encode into base64\n",
    "    #encoders.encode_base64(p)\n",
    "    #p.add_header('Content-Disposition', \"attachment; filename= %s\" % filename)\n",
    "    ## attach the instance 'p' to instance 'msg'\n",
    "    #msg.attach(p)\n",
    "\n",
    "    for dest in tolist:\n",
    "        # creates SMTP session\n",
    "        s = smtplib.SMTP('smtp.gmail.com', 587)\n",
    "        # start TLS for security\n",
    "        s.starttls()\n",
    "        # Authentication\n",
    "        s.login(fromaddr, password)\n",
    "        # Converts the Multipart msg into a string\n",
    "        text = msg.as_string()\n",
    "        # sending the mail\n",
    "        s.sendmail(fromaddr, dest, text)\n",
    "        s.quit()\n",
    "\n",
    "    # terminating the session\n",
    "    s.quit()"
   ]
  },
  {
   "cell_type": "code",
   "execution_count": null,
   "metadata": {},
   "outputs": [],
   "source": [
    "sendemail()"
   ]
  }
 ],
 "metadata": {
  "kernelspec": {
   "display_name": "Python 3",
   "language": "python",
   "name": "python3"
  },
  "language_info": {
   "codemirror_mode": {
    "name": "ipython",
    "version": 3
   },
   "file_extension": ".py",
   "mimetype": "text/x-python",
   "name": "python",
   "nbconvert_exporter": "python",
   "pygments_lexer": "ipython3",
   "version": "3.7.6"
  }
 },
 "nbformat": 4,
 "nbformat_minor": 4
}

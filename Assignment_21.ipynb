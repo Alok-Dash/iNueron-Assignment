{
 "cells": [
  {
   "cell_type": "markdown",
   "metadata": {},
   "source": [
    "# ASSIGNMENT 21"
   ]
  },
  {
   "cell_type": "markdown",
   "metadata": {},
   "source": [
    "1. Add the current date to the text file today.txt as a string."
   ]
  },
  {
   "cell_type": "code",
   "execution_count": null,
   "metadata": {},
   "outputs": [],
   "source": [
    "import datetime\n",
    "today=str(datetime.date.today())\n",
    "print(today)\n",
    "file=open('today.txt','w')\n",
    "file.write(today)\n",
    "file.close()"
   ]
  },
  {
   "cell_type": "markdown",
   "metadata": {},
   "source": [
    "2. Read the text file today.txt into the string today_string"
   ]
  },
  {
   "cell_type": "code",
   "execution_count": null,
   "metadata": {},
   "outputs": [],
   "source": [
    "file=open('today.txt','r')\n",
    "today_string=file.read()\n",
    "file.close()\n",
    "print(today_string, type(today_string))"
   ]
  },
  {
   "cell_type": "markdown",
   "metadata": {},
   "source": [
    "3. Parse the date from today_string."
   ]
  },
  {
   "cell_type": "code",
   "execution_count": null,
   "metadata": {},
   "outputs": [],
   "source": [
    "parse_date=datetime.datetime.strptime(today_string, \"%Y-%m-%d\")\n",
    "print(parse_date, type(parse_date))\n",
    "format_parse_date=datetime.datetime.strftime(parse_date, \"%d/%b/%y\")\n",
    "print(format_parse_date, type(format_parse_date))"
   ]
  },
  {
   "cell_type": "markdown",
   "metadata": {},
   "source": [
    "4. List the files in your current directory"
   ]
  },
  {
   "cell_type": "code",
   "execution_count": null,
   "metadata": {},
   "outputs": [],
   "source": [
    "#ls           #[This will also give the same result]\n",
    "import os\n",
    "lfiles=os.listdir('.')\n",
    "lfiles"
   ]
  },
  {
   "cell_type": "markdown",
   "metadata": {},
   "source": [
    "5. Create a list of all of the files in your parent directory (minimum five files should be available)."
   ]
  },
  {
   "cell_type": "code",
   "execution_count": null,
   "metadata": {},
   "outputs": [],
   "source": [
    "import os\n",
    "lfiles=os.listdir('..')\n",
    "lfiles"
   ]
  },
  {
   "cell_type": "markdown",
   "metadata": {},
   "source": [
    "6. Use multiprocessing to create three separate processes. Make each one wait a random number of seconds between one and five, print the current time, and then exit."
   ]
  },
  {
   "cell_type": "code",
   "execution_count": null,
   "metadata": {},
   "outputs": [],
   "source": [
    "import multiprocessing\n",
    "import time\n",
    "import random \n",
    "def rand_wait_time(second):\n",
    "    print('start')\n",
    "    time.sleep(second)\n",
    "    tic=time.time()\n",
    "    print(\"waited seconds - \", second, tic)\n",
    "\n",
    "process_list=[]\n",
    "tic=time.time()\n",
    "for i in range(5):\n",
    "    second=random.randint(1,5)\n",
    "    p1=multiprocessing.Process(target=rand_wait_time, args=(second,))\n",
    "    p1.start()\n",
    "    process_list.append(p1)\n",
    "\n",
    "for process in process_list:\n",
    "    process.join()\n",
    "\n",
    "toc=time.time()\n",
    "print(\"Executed in {:.2f} seconds\".format(toc-tic))"
   ]
  },
  {
   "cell_type": "markdown",
   "metadata": {},
   "source": [
    "7. Create a date object of your day of birth."
   ]
  },
  {
   "cell_type": "code",
   "execution_count": null,
   "metadata": {},
   "outputs": [],
   "source": [
    "import datetime\n",
    "dob=datetime.date(1991,4,20)\n",
    "print(dob, type(dob))"
   ]
  },
  {
   "cell_type": "markdown",
   "metadata": {},
   "source": [
    "8. What day of the week was your day of birth?"
   ]
  },
  {
   "cell_type": "code",
   "execution_count": null,
   "metadata": {},
   "outputs": [],
   "source": [
    "import datetime\n",
    "import calendar\n",
    "born=datetime.date.weekday(dob)\n",
    "calendar.day_name[born]"
   ]
  },
  {
   "cell_type": "markdown",
   "metadata": {},
   "source": [
    "9. When will you be (or when were you) 10,000 days old?"
   ]
  },
  {
   "cell_type": "code",
   "execution_count": null,
   "metadata": {},
   "outputs": [],
   "source": [
    "import datetime\n",
    "dob_age_10000=dob+datetime.timedelta(days=10000)\n",
    "dob_age_10000"
   ]
  }
 ],
 "metadata": {
  "kernelspec": {
   "display_name": "Python 3",
   "language": "python",
   "name": "python3"
  },
  "language_info": {
   "codemirror_mode": {
    "name": "ipython",
    "version": 3
   },
   "file_extension": ".py",
   "mimetype": "text/x-python",
   "name": "python",
   "nbconvert_exporter": "python",
   "pygments_lexer": "ipython3",
   "version": "3.7.6"
  }
 },
 "nbformat": 4,
 "nbformat_minor": 4
}

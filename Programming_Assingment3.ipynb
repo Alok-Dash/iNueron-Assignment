{
 "cells": [
  {
   "cell_type": "markdown",
   "metadata": {},
   "source": [
    "# Programming Assingment 3"
   ]
  },
  {
   "cell_type": "markdown",
   "metadata": {},
   "source": [
    "1.\tWrite a Python Program to Check if a Number is Positive, Negative or Zero?"
   ]
  },
  {
   "cell_type": "code",
   "execution_count": null,
   "metadata": {},
   "outputs": [],
   "source": [
    "def numcheck():\n",
    "        a=int(input(\"Please input a number\"))\n",
    "        if a==0:\n",
    "            print(a, \"is equal to zero\")\n",
    "        elif a>0:\n",
    "            print(a, \"is Positive number\")\n",
    "        else:\n",
    "            print(a, \"is Negative number\")\n",
    "numcheck()"
   ]
  },
  {
   "cell_type": "markdown",
   "metadata": {},
   "source": [
    "2. Write a Python Program to Check if a Number is Odd or Even?"
   ]
  },
  {
   "cell_type": "code",
   "execution_count": null,
   "metadata": {},
   "outputs": [],
   "source": [
    "def oddeven():\n",
    "    a=int(input(\"Please input a number\"))\n",
    "    if a%2==0:\n",
    "        print(\"Number entered is an even number:\",a)\n",
    "    else:\n",
    "        print(\"Number entered is an odd number:\",a)"
   ]
  },
  {
   "cell_type": "code",
   "execution_count": null,
   "metadata": {},
   "outputs": [],
   "source": [
    "oddeven()"
   ]
  },
  {
   "cell_type": "code",
   "execution_count": null,
   "metadata": {},
   "outputs": [],
   "source": [
    "3. Write a Python Program to Check Leap Year?"
   ]
  },
  {
   "cell_type": "code",
   "execution_count": null,
   "metadata": {},
   "outputs": [],
   "source": [
    "3. Write a Python Program to Check Leap Year"
   ]
  },
  {
   "cell_type": "code",
   "execution_count": null,
   "metadata": {},
   "outputs": [],
   "source": [
    "def year():\n",
    "    a=int(input(\"Please input year in terms of yyyy: \"))\n",
    "    if a%400==0:\n",
    "        print(a, \"is a leap year\")\n",
    "    elif a%100==0:\n",
    "        print(a, \"is not a leap year\")\n",
    "    elif a%4==0:\n",
    "        print(a, \"is a leap year\")\n",
    "    else:\n",
    "        print(a, \"is not a leap year\")\n",
    "year()"
   ]
  },
  {
   "cell_type": "markdown",
   "metadata": {},
   "source": [
    "4. Write a Python Program to Check Prime Number?"
   ]
  },
  {
   "cell_type": "code",
   "execution_count": null,
   "metadata": {},
   "outputs": [],
   "source": [
    "def primecheck(a):\n",
    "    if type(a)==int:\n",
    "        if a>1:\n",
    "            flag=0\n",
    "            for f in range(2,a):\n",
    "                if a%f!=0:\n",
    "                    pass\n",
    "                else:\n",
    "                    flag=1\n",
    "                    print(a, \"is not a prime number\")\n",
    "                    break\n",
    "            if flag==0:\n",
    "                print(a, \"is a prime number\")\n",
    "        elif a==1:\n",
    "            print(\"1 is not a prime or composite number\")\n",
    "        elif a<1:\n",
    "            print(\"Please enter a number > 1\")\n",
    "    else:\n",
    "        print(\"please enter a number\")\n",
    "primecheck(5)"
   ]
  },
  {
   "cell_type": "markdown",
   "metadata": {},
   "source": [
    "5. Write a Python Program to Print all Prime Numbers in an Interval of 1-10000?"
   ]
  },
  {
   "cell_type": "code",
   "execution_count": null,
   "metadata": {},
   "outputs": [],
   "source": [
    "for i in range (1,10000):\n",
    "    flag=0\n",
    "    if i==1:\n",
    "            print(\"1 is not a prime or composite number\")\n",
    "    else:\n",
    "        for f in range(2,i):\n",
    "            if i%f!=0:\n",
    "                pass\n",
    "            else:\n",
    "                flag=1\n",
    "                break\n",
    "        if flag==0:\n",
    "            print(i, \"is a prime number\")"
   ]
  }
 ],
 "metadata": {
  "kernelspec": {
   "display_name": "Python 3",
   "language": "python",
   "name": "python3"
  },
  "language_info": {
   "codemirror_mode": {
    "name": "ipython",
    "version": 3
   },
   "file_extension": ".py",
   "mimetype": "text/x-python",
   "name": "python",
   "nbconvert_exporter": "python",
   "pygments_lexer": "ipython3",
   "version": "3.7.6"
  }
 },
 "nbformat": 4,
 "nbformat_minor": 4
}

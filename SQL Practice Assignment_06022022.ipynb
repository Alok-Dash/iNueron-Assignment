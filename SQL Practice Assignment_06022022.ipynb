{
 "cells": [
  {
   "cell_type": "markdown",
   "metadata": {},
   "source": [
    "1 . Take a data set from attached URL https://archive.ics.uci.edu/ml/datasets/Car+Evaluation\n",
    "2 . Create a database called as cardataset\n",
    "3 . Create a table called as car with a column name given in dataset description\n",
    "4 . Dump all the data into car table \n",
    "5 . Try to check weather all the data is aviable inside your table or not \n",
    "6 . Try to group all the data with COL1 AND count occurences of each and every record based on col1 value \n",
    "7 . Try to filter a record where col 3 value will be 4 .\n",
    "8 . Try to update a col 3 value with 8 whereever you have value equal to 2 \n",
    "9 . Try to delete table \n",
    "10. Try to delete database"
   ]
  },
  {
   "cell_type": "code",
   "execution_count": null,
   "metadata": {},
   "outputs": [],
   "source": [
    "import pyodbc\n",
    "conn = pyodbc.connect(\"Driver={SQL Server Native Client 11.0};\"\n",
    "                      \"Server=ARLMSAPP04\\SQLEXPRESS;\"\n",
    "                      \"Database=testA;\"\n",
    "                      \"Trusted_Connection=yes;\"\n",
    "                     \"autocommit=True\")\n",
    "cursor = conn.cursor()"
   ]
  },
  {
   "cell_type": "code",
   "execution_count": null,
   "metadata": {},
   "outputs": [],
   "source": [
    "conn.autocommit=True\n",
    "cursor.execute(\"create database cardataset\")\n",
    "cursor.commit()"
   ]
  },
  {
   "cell_type": "code",
   "execution_count": null,
   "metadata": {},
   "outputs": [],
   "source": [
    "cursor.execute(\"create table cardataset..car (buying varchar(10), maint varchar(10), doors varchar(10), persons varchar(10), lug_boot varchar(10), safety varchar(10), class varchar(10))\")\n",
    "cursor.commit()"
   ]
  },
  {
   "cell_type": "code",
   "execution_count": null,
   "metadata": {},
   "outputs": [],
   "source": [
    "import csv\n",
    "with open(\"car.data\",'r') as f:\n",
    "    car_data=csv.reader(f, delimiter='\\n')\n",
    "    for i in car_data:\n",
    "        cursor.execute(\"insert into cardataset..car (buying,maint,doors,persons,lug_boot,safety,class) values({values})\".format(values=i[0]))\n",
    "cursor.commit()"
   ]
  },
  {
   "cell_type": "code",
   "execution_count": null,
   "metadata": {},
   "outputs": [],
   "source": [
    "cursor.execute(\"SELECT * from cardataset..car\")\n",
    "cursor.fetchall()"
   ]
  },
  {
   "cell_type": "code",
   "execution_count": null,
   "metadata": {},
   "outputs": [],
   "source": [
    "cursor.execute(\"Select count(buying),buying from cardataset..car group by buying\")\n",
    "cursor.fetchall()"
   ]
  },
  {
   "cell_type": "code",
   "execution_count": null,
   "metadata": {},
   "outputs": [],
   "source": [
    "cursor.execute(\"SELECT * FROM cardataset..car WHERE doors='4'\")\n",
    "cursor.fetchall()"
   ]
  },
  {
   "cell_type": "code",
   "execution_count": null,
   "metadata": {},
   "outputs": [],
   "source": [
    "cursor.execute(\"UPDATE cardataset..car SET doors='8' WHERE doors='2'\")\n",
    "cursor.commit()\n",
    "cursor.execute(\"SELECT * FROM cardataset..car WHERE doors='8'\")\n",
    "cursor.fetchall()"
   ]
  },
  {
   "cell_type": "code",
   "execution_count": null,
   "metadata": {},
   "outputs": [],
   "source": [
    "cursor.execute(\"DROP TABLE cardataset..car\")\n",
    "cursor.commit()"
   ]
  },
  {
   "cell_type": "code",
   "execution_count": null,
   "metadata": {},
   "outputs": [],
   "source": [
    "conn1=pyodbc.connect(\"Driver={SQL Server Native Client 11.0};\"\n",
    "                   \"Server=ARLMSAPP04/SQLEXPRESS;\"\n",
    "                   \"Database=testA;\"\n",
    "                   \"Trusted_Connection=yes;\"\n",
    "                   \"autocommit=true\")\n",
    "cursor1=conn1.cursor()\n",
    "cursor1.execute(\"DROP DATABASE cardataset\")\n",
    "cursor1.commit()"
   ]
  }
 ],
 "metadata": {
  "kernelspec": {
   "display_name": "Python 3",
   "language": "python",
   "name": "python3"
  },
  "language_info": {
   "codemirror_mode": {
    "name": "ipython",
    "version": 3
   },
   "file_extension": ".py",
   "mimetype": "text/x-python",
   "name": "python",
   "nbconvert_exporter": "python",
   "pygments_lexer": "ipython3",
   "version": "3.7.6"
  }
 },
 "nbformat": 4,
 "nbformat_minor": 4
}

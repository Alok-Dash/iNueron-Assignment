{
 "cells": [
  {
   "cell_type": "markdown",
   "metadata": {},
   "source": [
    "# Programming Assingment 5"
   ]
  },
  {
   "cell_type": "markdown",
   "metadata": {},
   "source": [
    "1.\tWrite a Python Program to Find LCM?"
   ]
  },
  {
   "cell_type": "code",
   "execution_count": null,
   "metadata": {},
   "outputs": [],
   "source": [
    "def lcm(a,b):\n",
    "    \"\"\"This function returns LCM of two numbers passed while calling the function\"\"\"\n",
    "    if a>b:\n",
    "        temp=b\n",
    "    else:\n",
    "        temp=a\n",
    "    for i in range(1,temp+1):\n",
    "        if (a%i==0) & (b%i==0):\n",
    "            gcd=i\n",
    "    res=abs(a*b/gcd)\n",
    "    return res\n",
    "lcm(10,20)"
   ]
  },
  {
   "cell_type": "markdown",
   "metadata": {},
   "source": [
    "2.\tWrite a Python Program to Find HCF?"
   ]
  },
  {
   "cell_type": "code",
   "execution_count": null,
   "metadata": {},
   "outputs": [],
   "source": [
    "def hcf(a,b):\n",
    "    \"\"\"This function returns HCF of two numbers passed while calling the function\"\"\"\n",
    "    for i in range(1,min(a,b)+1):\n",
    "        if (a%i==0) & (b%i==0):\n",
    "            hcf=i\n",
    "    return hcf\n",
    "hcf (18,24)"
   ]
  },
  {
   "cell_type": "markdown",
   "metadata": {},
   "source": [
    "3.\tWrite a Python Program to Convert Decimal to Binary, Octal and Hexadecimal?"
   ]
  },
  {
   "cell_type": "code",
   "execution_count": null,
   "metadata": {},
   "outputs": [],
   "source": [
    "def convert(n):\n",
    "    print(\"Binary conversion of number\", n, \"is\", bin(n))\n",
    "    print(\"Octal conversion of number\", n, \"is\", oct(n))\n",
    "    print(\"Hexadecimal conversion of number\", n, \"is\", hex(n))\n",
    "\n",
    "convert(20)"
   ]
  },
  {
   "cell_type": "markdown",
   "metadata": {},
   "source": [
    "4.\tWrite a Python Program To Find ASCII value of a character?"
   ]
  },
  {
   "cell_type": "code",
   "execution_count": null,
   "metadata": {},
   "outputs": [],
   "source": [
    "def asciival(a):\n",
    "    print(\"ASCII value OF character\", a, \"is: \", ord(a))\n",
    "    return ord(a)\n",
    "\n",
    "asciival('?')"
   ]
  },
  {
   "cell_type": "markdown",
   "metadata": {},
   "source": [
    "5.\tWrite a Python Program to Make a Simple Calculator with 4 basic mathematical operations?"
   ]
  },
  {
   "cell_type": "code",
   "execution_count": 6,
   "metadata": {},
   "outputs": [],
   "source": [
    "def calculator(a,b):\n",
    "    \"\"\"Pass two numbers in this function to get the basic mathematical operation: +, -, *, / \"\"\"\n",
    "    if (type(a)!=int) | (type(b)!=int):\n",
    "        print(\"Please enter correct numbers.\")\n",
    "    else:\n",
    "        task=input(\"Please enter the operation symbol: '+', '-', '*', '/' \")\n",
    "        if task=='+':\n",
    "            return a+b\n",
    "        elif task=='-':\n",
    "            return a-b\n",
    "        elif task=='*':\n",
    "            return a*b\n",
    "        elif task=='/':\n",
    "            return a/b\n",
    "        else:\n",
    "            print(\"Please enter correct mathematical operation.\")\n",
    "\n",
    "calculator(20,10)"
   ]
  }
 ],
 "metadata": {
  "kernelspec": {
   "display_name": "Python 3",
   "language": "python",
   "name": "python3"
  },
  "language_info": {
   "codemirror_mode": {
    "name": "ipython",
    "version": 3
   },
   "file_extension": ".py",
   "mimetype": "text/x-python",
   "name": "python",
   "nbconvert_exporter": "python",
   "pygments_lexer": "ipython3",
   "version": "3.7.6"
  }
 },
 "nbformat": 4,
 "nbformat_minor": 4
}

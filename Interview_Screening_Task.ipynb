{
  "nbformat": 4,
  "nbformat_minor": 0,
  "metadata": {
    "colab": {
      "name": "Interview Screening Task.ipynb",
      "provenance": [],
      "authorship_tag": "ABX9TyOTqxLkRVxxcoC8RLtHkKrY",
      "include_colab_link": true
    },
    "kernelspec": {
      "name": "python3",
      "display_name": "Python 3"
    },
    "language_info": {
      "name": "python"
    }
  },
  "cells": [
    {
      "cell_type": "markdown",
      "metadata": {
        "id": "view-in-github",
        "colab_type": "text"
      },
      "source": [
        "<a href=\"https://colab.research.google.com/github/Alok-Dash/iNueron-Assignment/blob/Python-programming-assignment/Interview_Screening_Task.ipynb\" target=\"_parent\"><img src=\"https://colab.research.google.com/assets/colab-badge.svg\" alt=\"Open In Colab\"/></a>"
      ]
    },
    {
      "cell_type": "markdown",
      "source": [
        "**#TASK 1 - Create a function in python to read the text file and replace specific content of the file.**"
      ],
      "metadata": {
        "id": "h7bf96krrJ7I"
      }
    },
    {
      "cell_type": "code",
      "execution_count": null,
      "metadata": {
        "id": "pVu3YAisohBt"
      },
      "outputs": [],
      "source": [
        "path=input(\"Please enter the file path: \")\n",
        "filepath=path+\"\\example.txt\"\n",
        "\n",
        "def createfile():\n",
        "    \"\"\"This function will create example.txt file in the desired path and write the content as per your wish \"\"\" \n",
        "    file=open(filepath,'w')\n",
        "    content=input(\"This is a placement assignment\") #please enter the same text for demonsatration purpose\n",
        "    file.write(content)\n",
        "    file.close()\n",
        "    return\n",
        "\n",
        "def read_replace():\n",
        "    searchtext=\"placement\"\n",
        "    replacetext=\"screening\"\n",
        "    with open(filepath,'w+') as file:\n",
        "        data=file.read()\n",
        "        data=data.replace(searchtext,replacetext)\n",
        "        print(data)\n",
        "        file.write(data)\n",
        "        print(file.read())\n",
        "        return \"Text replace successful\"\n",
        "\n",
        "createfile()\n",
        "\n",
        "read_replace()"
      ]
    },
    {
      "cell_type": "markdown",
      "source": [
        "**#TASK 2 - Demonstrate use of abstract class, multiple inheritance and decorator in python using examples.**"
      ],
      "metadata": {
        "id": "TJv95Vy7q9ig"
      }
    },
    {
      "cell_type": "markdown",
      "source": [
        "**#ABSTRACT CLASS**"
      ],
      "metadata": {
        "id": "Pk-UkJznrWuW"
      }
    },
    {
      "cell_type": "code",
      "source": [
        "from abc import ABC, abstractmethod\n",
        "\n",
        "class Result(ABC):    #This is a abstract class\n",
        "  @abstractmethod     #This is a abstractmethod which is also a decorator\n",
        "  def passpercent(self):\n",
        "    return 0\n",
        "class schoolA(Result):\n",
        "  def __init__(self,totstudents,passed):\n",
        "    self.totalstudent=totstudents\n",
        "    self.passedstudent=passed\n",
        "  def passpercent(self):\n",
        "    output=self.passedstudent/self.totalstudent*100\n",
        "    return (self, \"Pass percentage=\",output,\"%\")\n",
        "class schoolB(Result):\n",
        "  def __init__(self,totstudents,passed):\n",
        "    self.totalstudent=totstudents\n",
        "    self.passedstudent=passed\n",
        "  def passpercent(self):\n",
        "    output=self.passedstudent/self.totalstudent*100\n",
        "    return (self, \"Pass percentage=\",output,\"%\")\n",
        "class schoolC(Result):\n",
        "  def __init__(self,totstudents,passed):\n",
        "    self.totalstudent=totstudents\n",
        "    self.passedstudent=passed\n",
        "  def passpercent(self):\n",
        "    output=self.passedstudent/self.totalstudent*100\n",
        "    return (self, \"Pass percentage=\",output,\"%\")\n",
        "schoola=schoolA(100,90)\n",
        "schoolb=schoolB(100,80)\n",
        "schoolc=schoolC(100,70)\n",
        "print(schoola.passpercent())\n",
        "print(schoolb.passpercent())\n",
        "print(schoolc.passpercent())"
      ],
      "metadata": {
        "id": "_KuntCAZrefc"
      },
      "execution_count": null,
      "outputs": []
    },
    {
      "cell_type": "markdown",
      "source": [
        "**#MULTIPLE INHERITENCE**"
      ],
      "metadata": {
        "id": "ksor1I-Gre-e"
      }
    },
    {
      "cell_type": "code",
      "source": [
        "#Parent Class\n",
        "class A:\n",
        "    def __init__(self,a):\n",
        "        self.a=a\n",
        "    def add(self):\n",
        "        return (self.a + self.c)\n",
        "    def subtract(self):\n",
        "        return (self.a - self.c)\n",
        "#Parent Class\n",
        "class B:\n",
        "    def __init__(self,b):\n",
        "        self.b=b\n",
        "    def multiply(self):\n",
        "        return (self.b * self.c)\n",
        "    def divide(self):\n",
        "        return (self.b / self.c)\n",
        "#Child class [Multiple inheritance]\n",
        "class C(A,B):\n",
        "    def __init__(self,a,b,c):\n",
        "        self.c=c\n",
        "        A.__init__(self,a)\n",
        "        B.__init__(self,b)\n",
        "    def display(self):\n",
        "        print (\"Below are my numbers for inherited child class\")\n",
        "        print (\"a : \", self.a)\n",
        "        print (\"b : \", self.b)\n",
        "        print (\"c : \", self.c)\n",
        "#Object\n",
        "objx=C(30,20,10)\n",
        "objx.display()\n",
        "print(\"Add:\", objx.add())\n",
        "print(\"subtract:\", objx.subtract())\n",
        "print(\"multiply:\", objx.multiply())\n",
        "print(\"divide:\", objx.divide())\n"
      ],
      "metadata": {
        "id": "55tJM29OrkxH"
      },
      "execution_count": null,
      "outputs": []
    },
    {
      "cell_type": "markdown",
      "source": [
        "**DECORATOR**"
      ],
      "metadata": {
        "id": "CH3GN_O3Ey72"
      }
    },
    {
      "cell_type": "code",
      "source": [
        "def color(func):     #This function is to be used as a decorator\n",
        "  def body():\n",
        "    print(\" Color not painted\")\n",
        "    func()\n",
        "    print(func, \" Color is painted\\n\")\n",
        "  return body\n",
        "\n",
        "@color         # Here is a decorator called\n",
        "def painthouse():\n",
        "  pcolor=\"Green\"\n",
        "  print(\"House paint started\\n\")\n",
        "  return pcolor\n",
        "@color        # Here is a decorator called\n",
        "def paintcar():\n",
        "  pcolor=\"Red\"\n",
        "  print(\"Car paint started\\n\")\n",
        "  return pcolor\n",
        "\n",
        "painthouse()\n",
        "paintcar()"
      ],
      "metadata": {
        "id": "Jk3qeNLnE7JP"
      },
      "execution_count": null,
      "outputs": []
    }
  ]
}
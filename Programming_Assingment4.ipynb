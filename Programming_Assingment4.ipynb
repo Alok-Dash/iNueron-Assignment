{
 "cells": [
  {
   "cell_type": "markdown",
   "metadata": {},
   "source": [
    "# Programming Assingment 4"
   ]
  },
  {
   "cell_type": "markdown",
   "metadata": {},
   "source": [
    "1.\tWrite a Python Program to Find the Factorial of a Number?"
   ]
  },
  {
   "cell_type": "code",
   "execution_count": null,
   "metadata": {},
   "outputs": [],
   "source": [
    "a=int(input(\"Enter a number to find its factorial: \"))\n",
    "b=1\n",
    "for f in range(1,a+1):\n",
    "    b=b*f\n",
    "print(\"Factorial of number %a is %a\" %(a,b))"
   ]
  },
  {
   "cell_type": "markdown",
   "metadata": {},
   "source": [
    "2.\tWrite a Python Program to Display the multiplication Table?"
   ]
  },
  {
   "cell_type": "code",
   "execution_count": null,
   "metadata": {},
   "outputs": [],
   "source": [
    "a=int(input(\"Enter a number to see its multiplication table: \"))\n",
    "for i in range(1,11):\n",
    "    print(a,\"x\",i,\"=\",a*i)"
   ]
  },
  {
   "cell_type": "markdown",
   "metadata": {},
   "source": [
    "3. Write a Python Program to Print the Fibonacci sequence?"
   ]
  },
  {
   "cell_type": "code",
   "execution_count": null,
   "metadata": {},
   "outputs": [],
   "source": [
    "def fibonacci(f):\n",
    "    fs = [0,1]\n",
    "    for i in range(2,f+1):\n",
    "        fs.append(fs[i-1]+fs[i-2])\n",
    "    return fs\n",
    "fibonacci(10)"
   ]
  },
  {
   "cell_type": "markdown",
   "metadata": {},
   "source": [
    "4.\tWrite a Python Program to Check Armstrong Number?"
   ]
  },
  {
   "cell_type": "code",
   "execution_count": null,
   "metadata": {},
   "outputs": [],
   "source": [
    "def armstrong(n:int):\n",
    "    if type(n)==int:\n",
    "        a=str(n)\n",
    "        l=[]\n",
    "        for i in a:\n",
    "            l.append(int(i))\n",
    "        sum=0\n",
    "        for i in l:\n",
    "            sum+=i**3\n",
    "        if n==sum:\n",
    "            return True\n",
    "        else:\n",
    "            return False\n",
    "            \n",
    "    else:\n",
    "        print(\"Please pass an interger in function\")\n",
    "\n",
    "if armstrong(153)==True:\n",
    "    print(\"Number entered is armstrong\")\n",
    "else:\n",
    "    print(\"Number entered is not armstrong\")"
   ]
  },
  {
   "cell_type": "markdown",
   "metadata": {},
   "source": [
    "5.\tWrite a Python Program to Find Armstrong Number in an Interval?"
   ]
  },
  {
   "cell_type": "code",
   "execution_count": null,
   "metadata": {},
   "outputs": [],
   "source": [
    "def allarmstrong(n):\n",
    "    for i in range(n):\n",
    "        if (armstrong(i)==True):\n",
    "            print(i, \"is armstrong\")\n",
    "        else:\n",
    "            pass\n",
    "allarmstrong(1000)"
   ]
  },
  {
   "cell_type": "markdown",
   "metadata": {},
   "source": [
    "6.\tWrite a Python Program to Find the Sum of Natural Numbers?"
   ]
  },
  {
   "cell_type": "code",
   "execution_count": null,
   "metadata": {},
   "outputs": [],
   "source": [
    "def naturalsum(n):\n",
    "    val=0\n",
    "    for i in range(1,n+1):\n",
    "        val+=i\n",
    "    return val\n",
    "naturalsum(100)"
   ]
  },
  {
   "cell_type": "code",
   "execution_count": null,
   "metadata": {},
   "outputs": [],
   "source": [
    "#or\n",
    "n=int(input(\"Enter a number to get sum of all natural numbers in that range\"))\n",
    "sum=int(n*(n+1)/2)\n",
    "print(\"Sum of all natural numbers of %a is %a\" %(n,sum))"
   ]
  }
 ],
 "metadata": {
  "kernelspec": {
   "display_name": "Python 3",
   "language": "python",
   "name": "python3"
  },
  "language_info": {
   "codemirror_mode": {
    "name": "ipython",
    "version": 3
   },
   "file_extension": ".py",
   "mimetype": "text/x-python",
   "name": "python",
   "nbconvert_exporter": "python",
   "pygments_lexer": "ipython3",
   "version": "3.7.6"
  }
 },
 "nbformat": 4,
 "nbformat_minor": 4
}

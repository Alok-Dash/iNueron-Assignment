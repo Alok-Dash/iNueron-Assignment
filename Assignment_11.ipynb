{
 "cells": [
  {
   "cell_type": "markdown",
   "metadata": {},
   "source": [
    "# Assignment 11"
   ]
  },
  {
   "cell_type": "markdown",
   "metadata": {},
   "source": [
    "1. Create an assert statement that throws an AssertionError if the variable spam is a negative integer."
   ]
  },
  {
   "cell_type": "code",
   "execution_count": null,
   "metadata": {},
   "outputs": [],
   "source": [
    "#try:\n",
    "spam=int(input(\"Please enter a number: \"))\n",
    "assert spam>=0, \"This is a negative integer\"\n",
    "print(\"This is a positive integer\")\n",
    "#except AssertionError as msg:\n",
    "#    print(msg)"
   ]
  },
  {
   "cell_type": "markdown",
   "metadata": {},
   "source": [
    "2. Write an assert statement that triggers an AssertionError if the variables eggs and bacon contain strings that are the same as each other, even if their cases are different (that is, 'hello' and 'hello' are considered the same, and 'goodbye' and 'GOODbye' are also considered the same)."
   ]
  },
  {
   "cell_type": "code",
   "execution_count": null,
   "metadata": {},
   "outputs": [],
   "source": [
    "#try:\n",
    "eggs=input(\"Please enter a string: \")\n",
    "bacon=input(\"Please enter a string: \")\n",
    "assert (eggs.lower())!=(bacon.lower()), \"Both strings are same\"\n",
    "print(\"Different strings enetered: \",eggs,bacon)\n",
    "#except AssertionError as msg:\n",
    "#    print(msg)"
   ]
  },
  {
   "cell_type": "markdown",
   "metadata": {},
   "source": [
    "3. Create an assert statement that throws an AssertionError every time."
   ]
  },
  {
   "cell_type": "code",
   "execution_count": null,
   "metadata": {},
   "outputs": [],
   "source": [
    "assert 1!=1, \"Throw error everytime\"\n",
    "print(\"No error\")"
   ]
  },
  {
   "cell_type": "markdown",
   "metadata": {},
   "source": [
    "4. What are the two lines that must be present in your software in order to call logging.debug()?"
   ]
  },
  {
   "cell_type": "code",
   "execution_count": null,
   "metadata": {},
   "outputs": [],
   "source": [
    "import logging\n",
    "logging.basicConfig(filename=\"Logfile.log\",level=logging.DEBUG)\n",
    "\n",
    "logging.debug(\"This is my Debug log\")\n",
    "logging.shutdown()"
   ]
  },
  {
   "cell_type": "markdown",
   "metadata": {},
   "source": [
    "5. What are the two lines that your program must have in order to have logging.debug() send a logging message to a file named programLog.txt?"
   ]
  },
  {
   "cell_type": "code",
   "execution_count": null,
   "metadata": {},
   "outputs": [],
   "source": [
    "import logging\n",
    "logging.basicConfig(filename=\"programLog.txt\",level=logging.DEBUG)\n",
    "\n",
    "logging.debug(\"This is my newDebug log\")\n",
    "logging.shutdown()"
   ]
  },
  {
   "cell_type": "markdown",
   "metadata": {},
   "source": [
    "6. What are the five levels of logging?\n",
    "Answer:\n",
    "    INFO,\n",
    "    WARNING,\n",
    "    DEBUG,\n",
    "    ERROR,\n",
    "    CRITICAL"
   ]
  },
  {
   "cell_type": "markdown",
   "metadata": {},
   "source": [
    "7. What line of code would you add to your software to disable all logging messages?"
   ]
  },
  {
   "cell_type": "code",
   "execution_count": null,
   "metadata": {},
   "outputs": [],
   "source": [
    "logging.disable()\n",
    "\n",
    "logging.shutdown()"
   ]
  },
  {
   "cell_type": "markdown",
   "metadata": {},
   "source": [
    "8.Why is using logging messages better than using print() to display the same message?"
   ]
  },
  {
   "cell_type": "markdown",
   "metadata": {},
   "source": [
    "Logging helps troubleshoot the application during development or after production deployment. Logging can be written in files or standard output using multiple formats, and we can also capture the stack trace."
   ]
  },
  {
   "cell_type": "markdown",
   "metadata": {},
   "source": [
    "9. What are the differences between the Step Over, Step In, and Step Out buttons in the debugger?"
   ]
  },
  {
   "cell_type": "markdown",
   "metadata": {},
   "source": [
    "Answer:\n",
    "#Step over – An action to take in the debugger that will step over a given line. If the line contains a function the function will be executed and the result returned without debugging each line.\n",
    "\n",
    "#Step into – An action to take in the debugger. If the line does not contain a function it behaves the same as “step over” but if it does the debugger will enter the called function and continue line-by-line debugging there.\n",
    "\n",
    "#Step out – An action to take in the debugger that returns to the line where the current function was called."
   ]
  },
  {
   "cell_type": "markdown",
   "metadata": {},
   "source": [
    "10.After you click Continue, when will the debugger stop ?"
   ]
  },
  {
   "cell_type": "markdown",
   "metadata": {},
   "source": [
    "Answer: At a breakpoint or when you shutdown"
   ]
  },
  {
   "cell_type": "markdown",
   "metadata": {},
   "source": [
    "11. What is the concept of a breakpoint?"
   ]
  },
  {
   "cell_type": "raw",
   "metadata": {},
   "source": [
    "#We know errors might occur while working with large programs, so we often want to add a number of breakpoints. To do this you just have to use the break command. When you insert a breakpoint, the debugger assigns a number to it starting from 1.  Use the break to display all the breakpoints in the program.\n",
    "\n",
    "# Syntax: breakpoint()\n",
    "\n",
    "# break filename: lineno, condition"
   ]
  },
  {
   "cell_type": "code",
   "execution_count": null,
   "metadata": {},
   "outputs": [],
   "source": []
  }
 ],
 "metadata": {
  "kernelspec": {
   "display_name": "Python 3",
   "language": "python",
   "name": "python3"
  },
  "language_info": {
   "codemirror_mode": {
    "name": "ipython",
    "version": 3
   },
   "file_extension": ".py",
   "mimetype": "text/x-python",
   "name": "python",
   "nbconvert_exporter": "python",
   "pygments_lexer": "ipython3",
   "version": "3.7.6"
  }
 },
 "nbformat": 4,
 "nbformat_minor": 4
}

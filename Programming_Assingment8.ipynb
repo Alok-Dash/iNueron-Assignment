{
 "cells": [
  {
   "cell_type": "markdown",
   "metadata": {},
   "source": [
    "# Programming Assingment 8"
   ]
  },
  {
   "cell_type": "markdown",
   "metadata": {},
   "source": [
    "1.\tWrite a Python Program to Add Two Matrices"
   ]
  },
  {
   "cell_type": "code",
   "execution_count": null,
   "metadata": {},
   "outputs": [],
   "source": [
    "#Input matrix\n",
    "#First matrix (3 X 3)\n",
    "x=[[1,2,3], [4,5,6], [7,8,9]]\n",
    "#Second matrix (3 X 3)\n",
    "y=[[9,8,7], [6,5,4], [3,2,1]]\n",
    "\n",
    "result=[[0,0,0], [0,0,0], [0,0,0]]\n",
    "for i in range(len(x)):\n",
    "    for j in range(len(y)):\n",
    "        result[i][j]=x[i][j]+y[i][j]\n",
    "result"
   ]
  },
  {
   "cell_type": "markdown",
   "metadata": {},
   "source": [
    "2.\tWrite a Python Program to Multiply Two Matrices?"
   ]
  },
  {
   "cell_type": "code",
   "execution_count": null,
   "metadata": {},
   "outputs": [],
   "source": [
    "#Input matrix\n",
    "#First matrix (3 X 3)\n",
    "x=[[1,2,3], [4,5,6], [7,8,9]]\n",
    "#Second matrix (3 X 3)\n",
    "y=[[9,8,7], [6,5,4], [3,2,1]]\n",
    "\n",
    "result=[[0,0,0], [0,0,0], [0,0,0]]\n",
    "l=[]\n",
    "for i in range(len(x)):                       #Looping through the nuber of rows in X matrix\n",
    "    for j in range(len(y[0])):                #Looping through the nuber of columns in y matrix\n",
    "        for k in range(len(y)):               #Looping through the nuber of rows in y matrix\n",
    "            l.append((x[i][k],y[k][j]))\n",
    "            result[i][j]+=x[i][k]*y[k][j]\n",
    "result"
   ]
  },
  {
   "cell_type": "markdown",
   "metadata": {},
   "source": [
    "3.\tWrite a Python Program to Transpose a Matrix?"
   ]
  },
  {
   "cell_type": "code",
   "execution_count": null,
   "metadata": {},
   "outputs": [],
   "source": [
    "#Input matrix\n",
    "#First matrix (3 X 3)\n",
    "x=[[1,2,3], [4,5,6], [7,8,9]]\n",
    "result=[[0,0,0], [0,0,0], [0,0,0]]\n",
    "for i in range(len(x)):                       #Looping through the nuber of rows in X matrix\n",
    "    for j in range(len(x[0])):                #Looping through the nuber of columns in x matrix\n",
    "        result[i][j]=x[j][i]\n",
    "result"
   ]
  },
  {
   "cell_type": "markdown",
   "metadata": {},
   "source": [
    "4.\tWrite a Python Program to Sort Words in Alphabetic Order?"
   ]
  },
  {
   "cell_type": "code",
   "execution_count": null,
   "metadata": {},
   "outputs": [],
   "source": [
    "words=input(\"Please enter all your words to sort: \")\n",
    "def wordsort(words):\n",
    "    temp=words.split()\n",
    "    temp.sort()\n",
    "    sortword=str(temp)\n",
    "    return sortword"
   ]
  },
  {
   "cell_type": "markdown",
   "metadata": {},
   "source": [
    "5.\tWrite a Python Program to Remove Punctuation From a String?"
   ]
  },
  {
   "cell_type": "code",
   "execution_count": null,
   "metadata": {},
   "outputs": [],
   "source": [
    "import re\n",
    "words=input(\"Please enter a string to remove punctuations: \")\n",
    "def removepunct(words):\n",
    "    x=re.sub(r\"\\W|\\s\",\" \",words)\n",
    "    print(x)\n",
    "\n",
    "removepunct(words)"
   ]
  }
 ],
 "metadata": {
  "kernelspec": {
   "display_name": "Python 3",
   "language": "python",
   "name": "python3"
  },
  "language_info": {
   "codemirror_mode": {
    "name": "ipython",
    "version": 3
   },
   "file_extension": ".py",
   "mimetype": "text/x-python",
   "name": "python",
   "nbconvert_exporter": "python",
   "pygments_lexer": "ipython3",
   "version": "3.7.6"
  }
 },
 "nbformat": 4,
 "nbformat_minor": 4
}

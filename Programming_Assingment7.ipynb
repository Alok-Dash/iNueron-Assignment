{
 "cells": [
  {
   "cell_type": "markdown",
   "metadata": {},
   "source": [
    "# Programming Assingment 7"
   ]
  },
  {
   "cell_type": "markdown",
   "metadata": {},
   "source": [
    "1.\tWrite a Python Program to find sum of array?"
   ]
  },
  {
   "cell_type": "code",
   "execution_count": null,
   "metadata": {},
   "outputs": [],
   "source": [
    "\"\"\"Array are nothing but lists in Python\"\"\"\n",
    "def array(n):\n",
    "    \"\"\"Please pass n as the number of elements you want to pass into array while calling function\"\"\"\n",
    "    array=[]\n",
    "    sum=0\n",
    "    for f in range(n):\n",
    "        array.append(int(input(\"Please enter your number\")))\n",
    "        sum=sum+array[f]\n",
    "    print(\"Your array is:\", array)\n",
    "    print(\"Sum of array:\", sum)\n",
    "array(10)"
   ]
  },
  {
   "cell_type": "markdown",
   "metadata": {},
   "source": [
    "2.\tWrite a Python Program to find largest element in an array?"
   ]
  },
  {
   "cell_type": "code",
   "execution_count": null,
   "metadata": {},
   "outputs": [],
   "source": [
    "def maxarray(n:int):\n",
    "    \"\"\"Please pass n as the number of elements you want to pass into array while calling function\"\"\"\n",
    "    array=[]\n",
    "    if type(n)!=int:\n",
    "        print(\"Please pass an integer in the function argument\")\n",
    "    else:\n",
    "        for f in range(n):\n",
    "            array.append(int(input(\"Please enter your number\")))\n",
    "        print(\"Your array is:\", array)\n",
    "        array.sort()\n",
    "        print(\"Largest element in array is:\", array[len(array)-1])\n",
    "        return array[len(array)-1]\n",
    "\n",
    "#Call the function to create your array and get the maximum value\n",
    "maxarray(5)"
   ]
  },
  {
   "cell_type": "markdown",
   "metadata": {},
   "source": [
    "3.\tWrite a Python Program for array rotation?"
   ]
  },
  {
   "cell_type": "code",
   "execution_count": null,
   "metadata": {},
   "outputs": [],
   "source": [
    "def revarray(n):\n",
    "    \"\"\"Please pass n as the number of elements you want to pass into array while calling function\"\"\"\n",
    "    array=[]\n",
    "    for f in range(n):\n",
    "        array.append(input(\"Please enter your number\"))\n",
    "    print(\"Your array is:\", array)\n",
    "    print(\"Your reverse array is:\", array[::-1])\n",
    "\n",
    "#Call the function\n",
    "revarray(5)"
   ]
  },
  {
   "cell_type": "markdown",
   "metadata": {},
   "source": [
    "4.\tWrite a Python Program to Split the array and add the first part to the end?"
   ]
  },
  {
   "cell_type": "code",
   "execution_count": null,
   "metadata": {},
   "outputs": [],
   "source": [
    "mylist=['a','aa','abc',1,2,4,56]\n",
    "n=round(len(mylist)/2)\n",
    "firsthalf=mylist[:n]\n",
    "secondhalf=mylist[n:]\n",
    "newlist=secondhalf+firsthalf\n",
    "print(\"Your original created list:\", mylist)\n",
    "print(\"Your newlist after the split and switch is: \", newlist)"
   ]
  },
  {
   "cell_type": "markdown",
   "metadata": {},
   "source": [
    "5.\tWrite a Python Program to check if given array is Monotonic?"
   ]
  },
  {
   "cell_type": "code",
   "execution_count": null,
   "metadata": {},
   "outputs": [],
   "source": [
    "#First create a list\n",
    "def ismonotonic(mylist):\n",
    "    flag1, flag2=0,0\n",
    "    for i in range(len(mylist)-1):\n",
    "        if mylist[i]<=mylist[i+1]:\n",
    "            flag1+=1\n",
    "    for i in range(len(mylist)-1):\n",
    "        if mylist[i]>=mylist[i+1]:\n",
    "            flag2+=1\n",
    "    if (flag1==len(mylist)-1) | (flag2==len(mylist)-1):\n",
    "        print(\"Array is Monotonic\")\n",
    "    else:\n",
    "        print(\"Array is not Monotonic\")\n",
    "\n",
    "mylist=[1,2,3,4,5,6,7]\n",
    "\n",
    "ismonotonic(mylist)"
   ]
  }
 ],
 "metadata": {
  "kernelspec": {
   "display_name": "Python 3",
   "language": "python",
   "name": "python3"
  },
  "language_info": {
   "codemirror_mode": {
    "name": "ipython",
    "version": 3
   },
   "file_extension": ".py",
   "mimetype": "text/x-python",
   "name": "python",
   "nbconvert_exporter": "python",
   "pygments_lexer": "ipython3",
   "version": "3.7.6"
  }
 },
 "nbformat": 4,
 "nbformat_minor": 4
}

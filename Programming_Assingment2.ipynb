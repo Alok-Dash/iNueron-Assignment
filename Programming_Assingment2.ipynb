{
 "cells": [
  {
   "cell_type": "markdown",
   "metadata": {},
   "source": [
    "# Programming Assingment 2"
   ]
  },
  {
   "cell_type": "markdown",
   "metadata": {},
   "source": [
    "1. Write a Python program to convert kilometers to miles?"
   ]
  },
  {
   "cell_type": "code",
   "execution_count": null,
   "metadata": {},
   "outputs": [],
   "source": [
    "km=float(input(\"Enter the distance in km to convert to miles: \"))\n",
    "miles=float(km*0.621)\n",
    "print(\"%0.2f kilometers is equal to %0.2f miles\" %(km, miles))"
   ]
  },
  {
   "cell_type": "markdown",
   "metadata": {},
   "source": [
    "2. Write a Python program to convert Celsius to Fahrenheit?"
   ]
  },
  {
   "cell_type": "code",
   "execution_count": null,
   "metadata": {},
   "outputs": [],
   "source": [
    "tempc=float(input(\"Enter the temperature in Celsius: \"))\n",
    "tempf=(tempc*9/5)+32\n",
    "print(\"%0.1f Celsius is euqal to %0.1f Fahrenheit\" %(tempc,tempf))"
   ]
  },
  {
   "cell_type": "markdown",
   "metadata": {},
   "source": [
    "3. Write a Python program to display calendar?"
   ]
  },
  {
   "cell_type": "code",
   "execution_count": null,
   "metadata": {},
   "outputs": [],
   "source": [
    "import calendar\n",
    "year=int(input(\"Please enter the year to view calender: \"))\n",
    "month=int(input(\"Please enter the month in between 1-12 to view calender: \"))\n",
    "print(calendar.month(year,month))\n",
    "print(calendar.calendar(year))"
   ]
  },
  {
   "cell_type": "markdown",
   "metadata": {},
   "source": [
    "4. Write a Python program to solve quadratic equation?"
   ]
  },
  {
   "cell_type": "markdown",
   "metadata": {},
   "source": [
    "Method 1"
   ]
  },
  {
   "cell_type": "code",
   "execution_count": null,
   "metadata": {},
   "outputs": [],
   "source": [
    "import cmath\n",
    "def quadratic(a,b,c):\n",
    "    \"\"\" quadratic equation is in a form of ax2 + bx + c\n",
    "    please enter the values of a, b, c while calling the function\n",
    "    this function will return the two possible roots of the quadratic equation\n",
    "    \"\"\"\n",
    "    print(\"The qudratic equation you enetred is %a x2 + %a x + %a\" %(a,b,c))\n",
    "    x1=(-b+cmath.sqrt((b**2-4*a*c)))/2*a\n",
    "    x2=(-b-cmath.sqrt((b**2-4*a*c)))/2*a\n",
    "    print(\"The two roots of the quadratic equation are x1 = \",x1, \"x2 = \", x2)\n",
    "    return x1, x2"
   ]
  },
  {
   "cell_type": "code",
   "execution_count": null,
   "metadata": {},
   "outputs": [],
   "source": [
    "quadratic(3,4,5)"
   ]
  },
  {
   "cell_type": "markdown",
   "metadata": {},
   "source": [
    "Method 2"
   ]
  },
  {
   "cell_type": "code",
   "execution_count": null,
   "metadata": {},
   "outputs": [],
   "source": [
    "import math\n",
    "def quadroot(a,b,c):\n",
    "    if a==0:\n",
    "        print (\"Input Correct quadratic equation\")\n",
    "    else:\n",
    "        print (\"Quadratic equation you have entered is: %a x2 + %a x + %a\" %(a,b,c))\n",
    "        dis=b**2-4*a*c\n",
    "        sqrt=math.sqrt(abs(dis))\n",
    "        if dis==0:\n",
    "            x=(-b/2*a)\n",
    "            print(\"Both roots are same: \", x)\n",
    "        elif dis>0:\n",
    "            x1=(-b+sqrt)/2*a\n",
    "            x2=(-b-sqrt)/2*a\n",
    "            print(\"The two roots of the quadratic equation are x1 = \",x1, \"x2 = \", x2)\n",
    "        else:\n",
    "            x1=str(-b/2*a)+\"+i\"+str(sqrt)\n",
    "            x2=str(-b/2*a)+\"-i\"+str(sqrt)\n",
    "            print(\"The two roots of the quadratic equation are x1 = \",x1, \"x2 = \", x2)"
   ]
  },
  {
   "cell_type": "code",
   "execution_count": null,
   "metadata": {},
   "outputs": [],
   "source": [
    "quadroot(3,4,5)"
   ]
  },
  {
   "cell_type": "markdown",
   "metadata": {},
   "source": [
    "5. Write a Python program to swap two variables without temp variable?"
   ]
  },
  {
   "cell_type": "code",
   "execution_count": null,
   "metadata": {},
   "outputs": [],
   "source": [
    "x=input(\"Please enter value of fisrt variable x: \")\n",
    "y=input(\"Please enter value of fisrt variable y: \")\n",
    "print(\"Before swapping values are x =\", x, \" y =\", y)\n",
    "x,y=y,x\n",
    "print(\"Before swapping values are x =\", x, \" y =\", y)"
   ]
  }
 ],
 "metadata": {
  "kernelspec": {
   "display_name": "Python 3",
   "language": "python",
   "name": "python3"
  },
  "language_info": {
   "codemirror_mode": {
    "name": "ipython",
    "version": 3
   },
   "file_extension": ".py",
   "mimetype": "text/x-python",
   "name": "python",
   "nbconvert_exporter": "python",
   "pygments_lexer": "ipython3",
   "version": "3.7.6"
  }
 },
 "nbformat": 4,
 "nbformat_minor": 4
}
